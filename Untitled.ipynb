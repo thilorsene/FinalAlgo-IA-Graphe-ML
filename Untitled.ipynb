{
 "cells": [
  {
   "cell_type": "code",
   "execution_count": 4,
   "metadata": {},
   "outputs": [],
   "source": [
    "import pandas as pd"
   ]
  },
  {
   "cell_type": "code",
   "execution_count": 5,
   "metadata": {},
   "outputs": [],
   "source": [
    "test = pd.read_csv('data/transport-nodes.csv')"
   ]
  },
  {
   "cell_type": "code",
   "execution_count": 47,
   "metadata": {},
   "outputs": [
    {
     "name": "stdout",
     "output_type": "stream",
     "text": [
      "Amsterdam\n",
      "Utrecht\n",
      "Den Haag\n",
      "Immingham\n",
      "Doncaster\n",
      "Hoek van Holland\n",
      "Felixstowe\n",
      "Ipswich\n",
      "Colchester\n",
      "London\n",
      "Rotterdam\n",
      "Gouda\n"
     ]
    }
   ],
   "source": [
    "for i in range(len(test.index)):\n",
    "    print(test.loc[i].id)\n"
   ]
  },
  {
   "cell_type": "code",
   "execution_count": 43,
   "metadata": {},
   "outputs": [
    {
     "data": {
      "text/plain": [
       "'Gouda'"
      ]
     },
     "execution_count": 43,
     "metadata": {},
     "output_type": "execute_result"
    }
   ],
   "source": [
    "b"
   ]
  },
  {
   "cell_type": "code",
   "execution_count": 14,
   "metadata": {},
   "outputs": [],
   "source": [
    "a = list(test.latitude)"
   ]
  },
  {
   "cell_type": "code",
   "execution_count": 35,
   "metadata": {},
   "outputs": [
    {
     "data": {
      "text/plain": [
       "12"
      ]
     },
     "execution_count": 35,
     "metadata": {},
     "output_type": "execute_result"
    }
   ],
   "source": [
    "len(test.index)"
   ]
  },
  {
   "cell_type": "code",
   "execution_count": 12,
   "metadata": {},
   "outputs": [
    {
     "name": "stdout",
     "output_type": "stream",
     "text": [
      "id,latitude,longitude,population\n",
      "\"Amsterdam\",52.379189,4.899431,821752\n",
      "\"Utrecht\",52.092876,5.104480,334176\n",
      "\"Den\n",
      "\"Immingham\",53.61239,-0.22219,9642\n",
      "\"Doncaster\",53.52285,-1.13116,302400\n",
      "\"Hoek\n",
      "\"Felixstowe\",51.96375,1.3511,23689\n",
      "\"Ipswich\",52.05917,1.15545,133384\n",
      "\"Colchester\",51.88921,0.90421,104390\n",
      "\"London\",51.509865,-0.118092,8787892\n",
      "\"Rotterdam\",51.9225,4.47917,623652\n",
      "\"Gouda\",52.01667,4.70833,70939\n"
     ]
    }
   ],
   "source": [
    "import csv\n",
    "with open('data/transport-nodes.csv', newline='') as csvfile:\n",
    "    spamreader = csv.reader(csvfile, delimiter=' ', quotechar='|')\n",
    "    for row in spamreader:\n",
    "        print(row[0])\n"
   ]
  },
  {
   "cell_type": "code",
   "execution_count": 1,
   "metadata": {},
   "outputs": [
    {
     "name": "stdout",
     "output_type": "stream",
     "text": [
      "OrderedDict([('src', 'Amsterdam'), ('dst', 'Utrecht'), ('relationship', 'EROAD'), ('cost', '46')])\n",
      "OrderedDict([('src', 'Amsterdam'), ('dst', 'Den Haag'), ('relationship', 'EROAD'), ('cost', '59')])\n",
      "OrderedDict([('src', 'Den Haag'), ('dst', 'Rotterdam'), ('relationship', 'EROAD'), ('cost', '26')])\n",
      "OrderedDict([('src', 'Amsterdam'), ('dst', 'Immingham'), ('relationship', 'EROAD'), ('cost', '369')])\n",
      "OrderedDict([('src', 'Immingham'), ('dst', 'Doncaster'), ('relationship', 'EROAD'), ('cost', '74')])\n",
      "OrderedDict([('src', 'Doncaster'), ('dst', 'London'), ('relationship', 'EROAD'), ('cost', '277')])\n",
      "OrderedDict([('src', 'Hoek van Holland'), ('dst', 'Den Haag'), ('relationship', 'EROAD'), ('cost', '27')])\n",
      "OrderedDict([('src', 'Felixstowe'), ('dst', 'Hoek van Holland'), ('relationship', 'EROAD'), ('cost', '207')])\n",
      "OrderedDict([('src', 'Ipswich'), ('dst', 'Felixstowe'), ('relationship', 'EROAD'), ('cost', '22')])\n",
      "OrderedDict([('src', 'Colchester'), ('dst', 'Ipswich'), ('relationship', 'EROAD'), ('cost', '32')])\n",
      "OrderedDict([('src', 'London'), ('dst', 'Colchester'), ('relationship', 'EROAD'), ('cost', '106')])\n",
      "OrderedDict([('src', 'Gouda'), ('dst', 'Rotterdam'), ('relationship', 'EROAD'), ('cost', '25')])\n",
      "OrderedDict([('src', 'Gouda'), ('dst', 'Utrecht'), ('relationship', 'EROAD'), ('cost', '35')])\n",
      "OrderedDict([('src', 'Den Haag'), ('dst', 'Gouda'), ('relationship', 'EROAD'), ('cost', '32')])\n",
      "OrderedDict([('src', 'Hoek van Holland'), ('dst', 'Rotterdam'), ('relationship', 'EROAD'), ('cost', '33')])\n"
     ]
    }
   ],
   "source": [
    "import csv\n",
    "with open('data/transport-relationships.csv', newline='') as csvfile:\n",
    "    reader = csv.DictReader(csvfile)\n",
    "    liste = {}\n",
    "    for row in reader:\n",
    "        print(row)\n",
    "        liste[row['src']]=row['dst'],row['cost']"
   ]
  },
  {
   "cell_type": "code",
   "execution_count": 5,
   "metadata": {},
   "outputs": [
    {
     "data": {
      "text/plain": [
       "('Immingham', '369')"
      ]
     },
     "execution_count": 5,
     "metadata": {},
     "output_type": "execute_result"
    }
   ],
   "source": [
    "liste['Amsterdam']"
   ]
  },
  {
   "cell_type": "code",
   "execution_count": 4,
   "metadata": {},
   "outputs": [
    {
     "ename": "SyntaxError",
     "evalue": "invalid syntax (<ipython-input-4-9fb94a7bb71d>, line 3)",
     "output_type": "error",
     "traceback": [
      "\u001b[0;36m  File \u001b[0;32m\"<ipython-input-4-9fb94a7bb71d>\"\u001b[0;36m, line \u001b[0;32m3\u001b[0m\n\u001b[0;31m    if i == 'Amsterdam'\u001b[0m\n\u001b[0m                       ^\u001b[0m\n\u001b[0;31mSyntaxError\u001b[0m\u001b[0;31m:\u001b[0m invalid syntax\n"
     ]
    }
   ],
   "source": []
  },
  {
   "cell_type": "code",
   "execution_count": 35,
   "metadata": {},
   "outputs": [
    {
     "data": {
      "text/plain": [
       "'Gouda'"
      ]
     },
     "execution_count": 35,
     "metadata": {},
     "output_type": "execute_result"
    }
   ],
   "source": [
    "a"
   ]
  },
  {
   "cell_type": "code",
   "execution_count": null,
   "metadata": {},
   "outputs": [],
   "source": []
  }
 ],
 "metadata": {
  "kernelspec": {
   "display_name": "Python 3",
   "language": "python",
   "name": "python3"
  },
  "language_info": {
   "codemirror_mode": {
    "name": "ipython",
    "version": 3
   },
   "file_extension": ".py",
   "mimetype": "text/x-python",
   "name": "python",
   "nbconvert_exporter": "python",
   "pygments_lexer": "ipython3",
   "version": "3.7.6"
  }
 },
 "nbformat": 4,
 "nbformat_minor": 4
}
